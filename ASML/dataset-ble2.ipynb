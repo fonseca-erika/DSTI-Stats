{
 "cells": [
  {
   "cell_type": "markdown",
   "metadata": {},
   "source": [
    "# Exercise on the dataset Blé\n",
    "The dataset is made up of 2 factors and 1 response. The questions are:\n",
    "* Perform an analysis on variance with one factors and then with two factors.\n",
    "* What kind of questions can we answer from that dataset?"
   ]
  },
  {
   "cell_type": "markdown",
   "metadata": {},
   "source": [
    "## Loading the dataset\n",
    "Having a look at the dataset (a text file), we can see there is an header. Here's the first lines of the data set:\n",
    "\n",
    "|parcelle|variete|phyto|rdt|\n",
    "|----|----|----|----|\n",
    "|1|V1|Avec|5652|\n",
    "|2|V1|Avec|5583|"
   ]
  },
  {
   "cell_type": "code",
   "execution_count": 1,
   "metadata": {},
   "outputs": [],
   "source": [
    "dataset_ble = read.table(\"Dataset_Ble.txt\", header=TRUE, sep =\";\")"
   ]
  },
  {
   "cell_type": "code",
   "execution_count": 2,
   "metadata": {},
   "outputs": [
    {
     "data": {
      "text/html": [
       "<table>\n",
       "<caption>A data.frame: 6 × 4</caption>\n",
       "<thead>\n",
       "\t<tr><th></th><th scope=col>parcelle</th><th scope=col>variete</th><th scope=col>phyto</th><th scope=col>rdt</th></tr>\n",
       "\t<tr><th></th><th scope=col>&lt;int&gt;</th><th scope=col>&lt;fct&gt;</th><th scope=col>&lt;fct&gt;</th><th scope=col>&lt;int&gt;</th></tr>\n",
       "</thead>\n",
       "<tbody>\n",
       "\t<tr><th scope=row>1</th><td>1</td><td>V1</td><td>Avec</td><td>5652</td></tr>\n",
       "\t<tr><th scope=row>2</th><td>2</td><td>V1</td><td>Avec</td><td>5583</td></tr>\n",
       "\t<tr><th scope=row>3</th><td>3</td><td>V1</td><td>Avec</td><td>5612</td></tr>\n",
       "\t<tr><th scope=row>4</th><td>4</td><td>V1</td><td>Avec</td><td>5735</td></tr>\n",
       "\t<tr><th scope=row>5</th><td>5</td><td>V1</td><td>Avec</td><td>5704</td></tr>\n",
       "\t<tr><th scope=row>6</th><td>6</td><td>V1</td><td>Avec</td><td>5544</td></tr>\n",
       "</tbody>\n",
       "</table>\n"
      ],
      "text/latex": [
       "A data.frame: 6 × 4\n",
       "\\begin{tabular}{r|llll}\n",
       "  & parcelle & variete & phyto & rdt\\\\\n",
       "  & <int> & <fct> & <fct> & <int>\\\\\n",
       "\\hline\n",
       "\t1 & 1 & V1 & Avec & 5652\\\\\n",
       "\t2 & 2 & V1 & Avec & 5583\\\\\n",
       "\t3 & 3 & V1 & Avec & 5612\\\\\n",
       "\t4 & 4 & V1 & Avec & 5735\\\\\n",
       "\t5 & 5 & V1 & Avec & 5704\\\\\n",
       "\t6 & 6 & V1 & Avec & 5544\\\\\n",
       "\\end{tabular}\n"
      ],
      "text/markdown": [
       "\n",
       "A data.frame: 6 × 4\n",
       "\n",
       "| <!--/--> | parcelle &lt;int&gt; | variete &lt;fct&gt; | phyto &lt;fct&gt; | rdt &lt;int&gt; |\n",
       "|---|---|---|---|---|\n",
       "| 1 | 1 | V1 | Avec | 5652 |\n",
       "| 2 | 2 | V1 | Avec | 5583 |\n",
       "| 3 | 3 | V1 | Avec | 5612 |\n",
       "| 4 | 4 | V1 | Avec | 5735 |\n",
       "| 5 | 5 | V1 | Avec | 5704 |\n",
       "| 6 | 6 | V1 | Avec | 5544 |\n",
       "\n"
      ],
      "text/plain": [
       "  parcelle variete phyto rdt \n",
       "1 1        V1      Avec  5652\n",
       "2 2        V1      Avec  5583\n",
       "3 3        V1      Avec  5612\n",
       "4 4        V1      Avec  5735\n",
       "5 5        V1      Avec  5704\n",
       "6 6        V1      Avec  5544"
      ]
     },
     "metadata": {},
     "output_type": "display_data"
    }
   ],
   "source": [
    "head(dataset_ble)"
   ]
  },
  {
   "cell_type": "code",
   "execution_count": 3,
   "metadata": {},
   "outputs": [
    {
     "data": {
      "text/plain": [
       "    parcelle     variete  phyto         rdt      \n",
       " Min.   : 1.00   V1:20   Avec:40   Min.   :5268  \n",
       " 1st Qu.:20.75   V2:20   Sans:40   1st Qu.:5482  \n",
       " Median :40.50   V3:20             Median :5606  \n",
       " Mean   :40.50   V4:20             Mean   :5609  \n",
       " 3rd Qu.:60.25                     3rd Qu.:5718  \n",
       " Max.   :80.00                     Max.   :5947  "
      ]
     },
     "metadata": {},
     "output_type": "display_data"
    }
   ],
   "source": [
    "summary(dataset_ble)"
   ]
  },
  {
   "cell_type": "code",
   "execution_count": 4,
   "metadata": {},
   "outputs": [],
   "source": [
    "attach(dataset_ble)"
   ]
  },
  {
   "cell_type": "markdown",
   "metadata": {},
   "source": [
    "## ANalysis Of VAriance (ANOVA) with one factor\n",
    "**ANOVA**, one-way analysis of variance also known as **one-factor ANOVA**, is an extension of independent **two-samples t-test** for comparing means in a situation where there are more than two groups.\n",
    "\n",
    "That is, the important point here is that it is used to compare **means**. The ANOVA test hypothesis are:\n",
    "* **Null hypothesis (H0)**: the means of the different groups are the same, **=>** the factor has NO significant influence,\n",
    "* **Alternative hypothesis (H1)**: At least one sample mean is not equal to the others, **=>** at least one factor has a significant influence.\n",
    "\n",
    "### Assumptions for ANOVA\n",
    "These assumptions **must be** verified."
   ]
  },
  {
   "cell_type": "markdown",
   "metadata": {},
   "source": [
    "<div>\n",
    "<ol>\n",
    "    <li>The observations are obtained independently and randomly,</li>\n",
    "    <li>Groups are identically distributed, i.e. homogeneity of variances a.k.a <b>Homoscedacity</b>,</li>\n",
    "    <li>Gaussianity of the noise.</li>\n",
    "</ol>"
   ]
  },
  {
   "cell_type": "markdown",
   "metadata": {},
   "source": [
    "## Using ```Variete``` as a factor\n",
    "**->** We're therefore analysing here **4 groups** (each group being of size 20). Let's do a boxplot to quickly visualise potential influence of Variete on Rendement:"
   ]
  },
  {
   "cell_type": "code",
   "execution_count": 50,
   "metadata": {
    "scrolled": true
   },
   "outputs": [],
   "source": [
    "# Set plot width and height\n",
    "options(repr.plot.width=10, repr.plot.height=10)"
   ]
  },
  {
   "cell_type": "code",
   "execution_count": 49,
   "metadata": {},
   "outputs": [
    {
     "data": {
      "image/png": "[encoded data removed]",
      "text/plain": [
       "plot without title"
      ]
     },
     "metadata": {
      "image/png": {
       "height": 600,
       "width": 600
      },
      "text/plain": {
       "height": 600,
       "width": 600
      }
     },
     "output_type": "display_data"
    }
   ],
   "source": [
    "plot(rdt~variete, data=dataset_ble, pch=16, cex=1.5, cex.lab=1.5, cex.axis=1.2, col=\"green\")"
   ]
  },
  {
   "cell_type": "markdown",
   "metadata": {},
   "source": [
    "<div class=\"alert alert-block alert-success\">\n",
    "    <b>Quick analysis on this plot:</b> It seems that Variete V1 & V2 have quite a similar influence on the rendement, although V2 seems to have a bigger variance, whereas V3 and V4 has a different influence all together. V4 seems to give the best rendement.\n",
    "    <p>It seems the <b>Variete</b> variable may have an influence on the rendement. Let's run the <b>ANOVA</b> test to confirm.</p>\n",
    "</div>"
   ]
  },
  {
   "cell_type": "markdown",
   "metadata": {},
   "source": [
    "### Performing ANOVA test\n",
    "We'll use **aov()** R function."
   ]
  },
  {
   "cell_type": "code",
   "execution_count": 6,
   "metadata": {},
   "outputs": [
    {
     "data": {
      "text/plain": [
       "            Df  Sum Sq Mean Sq F value   Pr(>F)    \n",
       "variete      3  851845  283948   20.52 7.67e-10 ***\n",
       "Residuals   76 1051387   13834                     \n",
       "---\n",
       "Signif. codes:  0 '***' 0.001 '**' 0.01 '*' 0.05 '.' 0.1 ' ' 1"
      ]
     },
     "metadata": {},
     "output_type": "display_data"
    }
   ],
   "source": [
    "result_aov = aov(rdt~variete, data = dataset_ble)\n",
    "summary(result_aov)"
   ]
  },
  {
   "cell_type": "markdown",
   "metadata": {},
   "source": [
    "<div class=\"alert alert-block alert-success\">\n",
    "    <b>Interpretation:</b> Here we have p-value=<b>7.67e-10</b> for this Fisher test significantly less than <b>0.05</b>, so <b>we reject H0</b>, i.e. there are significant differences in mean between the different <b>variete</b>.\n",
    "</div>"
   ]
  },
  {
   "cell_type": "markdown",
   "metadata": {},
   "source": [
    "### Pairwise-comparison between groups\n",
    "The ANOVA test shows that at least one mean of the group (V1, V2, V3, V4) is different, but it does not provide indication on which group(s) are different. For this we need to perform a pairwise-comparison. It can be done by:\n",
    "* Tukey test or Tukey's Honest Significant Difference(HSD) test,\n",
    "* Pairwise t-test."
   ]
  },
  {
   "cell_type": "markdown",
   "metadata": {},
   "source": [
    "#### Tukey HSD test\n",
    "The R function TukeyHD() takes the fitted ANOVA as an argument."
   ]
  },
  {
   "cell_type": "code",
   "execution_count": 7,
   "metadata": {},
   "outputs": [
    {
     "data": {
      "text/plain": [
       "  Tukey multiple comparisons of means\n",
       "    95% family-wise confidence level\n",
       "\n",
       "Fit: aov(formula = rdt ~ variete, data = dataset_ble)\n",
       "\n",
       "$variete\n",
       "        diff        lwr       upr     p adj\n",
       "V2-V1  -49.7 -147.40144  48.00144 0.5430118\n",
       "V3-V1 -169.2 -266.90144 -71.49856 0.0001163\n",
       "V4-V1  118.4   20.69856 216.10144 0.0111177\n",
       "V3-V2 -119.5 -217.20144 -21.79856 0.0101961\n",
       "V4-V2  168.1   70.39856 265.80144 0.0001297\n",
       "V4-V3  287.6  189.89856 385.30144 0.0000000\n"
      ]
     },
     "metadata": {},
     "output_type": "display_data"
    }
   ],
   "source": [
    "TukeyHSD(result_aov)"
   ]
  },
  {
   "cell_type": "markdown",
   "metadata": {},
   "source": [
    "<div class=\"alert alert-block alert-success\">\n",
    "    <b>Interpretation:</b> The confidence levels and p-values show there are significant between-group differences of mean for all groups <b>except V2-V1</b> (that's the only pair containing 0 in the confidence interval and an adjusted <b>p-value=0.5430118</b> > our alpha = 0.05).\n",
    "    <p>This is clearly confirmed by the plot below.</p> \n",
    "</div>"
   ]
  },
  {
   "cell_type": "code",
   "execution_count": 8,
   "metadata": {},
   "outputs": [
    {
     "data": {
      "image/png": "[encoded data removed]",
      "text/plain": [
       "Plot with title \"95% family-wise confidence level\n",
       "\""
      ]
     },
     "metadata": {
      "image/png": {
       "height": 600,
       "width": 600
      },
      "text/plain": {
       "height": 600,
       "width": 600
      }
     },
     "output_type": "display_data"
    }
   ],
   "source": [
    "plot(TukeyHSD(result_aov), cex=1.5, cex.lab=1.5, cex.axis=1.2, col=\"black\")"
   ]
  },
  {
   "cell_type": "markdown",
   "metadata": {},
   "source": [
    "#### Pairwise t-test\n",
    "Pairwise test with **Bonferroni** adjustment of p-value (**Bonferroni** is often considered overly conservative)."
   ]
  },
  {
   "cell_type": "code",
   "execution_count": 9,
   "metadata": {},
   "outputs": [
    {
     "data": {
      "text/plain": [
       "\n",
       "\tPairwise comparisons using t tests with pooled SD \n",
       "\n",
       "data:  dataset_ble$rdt and dataset_ble$variete \n",
       "\n",
       "   V1      V2      V3     \n",
       "V2 1.00000 -       -      \n",
       "V3 0.00012 0.01157 -      \n",
       "V4 0.01266 0.00013 2.1e-10\n",
       "\n",
       "P value adjustment method: bonferroni "
      ]
     },
     "metadata": {},
     "output_type": "display_data"
    }
   ],
   "source": [
    "pairwise.t.test(dataset_ble$rdt, dataset_ble$variete,p.adjust.method = \"bonferroni\")"
   ]
  },
  {
   "cell_type": "markdown",
   "metadata": {},
   "source": [
    "<div class=\"alert alert-block alert-success\">\n",
    "    <b>Interpretation:</b> The adjusted p-values confirm the significant between-group differences of mean for all groups <b>except V2-V1</b>.\n",
    "</div>"
   ]
  },
  {
   "cell_type": "markdown",
   "metadata": {},
   "source": [
    "### Verifying ANOVA test assumptions\n",
    "The results above are only valid if the assumptions of the **ANOVA** test are verified. Let's try to confirm they are."
   ]
  },
  {
   "cell_type": "markdown",
   "metadata": {},
   "source": [
    "#### 1. The observations are obtained independently and randomly\n",
    "It might be difficult to confirm, but there's no reason to believe observations of each group are not independent, assuming each parcelle is pysically different one from another."
   ]
  },
  {
   "cell_type": "markdown",
   "metadata": {},
   "source": [
    "#### 2. Groups are identically distributed, i.e. Homoscedacity\n",
    "We can use several tests to verify the homogeneity of the variance of each group:\n",
    "* Looking at the **residuals versus fits** plot,\n",
    "* **Compute variance** of each label and compare. *Potential issue here is that with low number of observations, the variances could look different whereas they are identical*.\n",
    "* **Bartley test**\n",
    "* **Levene test**"
   ]
  },
  {
   "cell_type": "markdown",
   "metadata": {},
   "source": [
    "#### *Residuals vs fits plot*"
   ]
  },
  {
   "cell_type": "code",
   "execution_count": 10,
   "metadata": {},
   "outputs": [
    {
     "data": {
      "image/png": "[encoded data removed]",
      "text/plain": [
       "Plot with title \"\""
      ]
     },
     "metadata": {
      "image/png": {
       "height": 600,
       "width": 600
      },
      "text/plain": {
       "height": 600,
       "width": 600
      }
     },
     "output_type": "display_data"
    }
   ],
   "source": [
    "plot(result_aov, 1, cex=1.5, cex.lab=1.5, cex.axis=1.2)"
   ]
  },
  {
   "cell_type": "markdown",
   "metadata": {},
   "source": [
    "<div class=\"alert alert-block alert-warning\">\n",
    "    <b>Warning:</b> Data points 38, 40 and 72 have been identified as outliers. They could (severely) affect normality and homogeneity of variance. It can be useful to remove these outliers to meet the test assumptions.\n",
    "</div>"
   ]
  },
  {
   "cell_type": "markdown",
   "metadata": {},
   "source": [
    "<div class=\"alert alert-block alert-success\">\n",
    "    <b>Interpretation:</b> The outliers apart, the plot shows no evident relationships between residuals and fitted values (the mean of each group), which is good.\n",
    "    <p>We can assume the homogeneity of variances.</p>\n",
    "</div>"
   ]
  },
  {
   "cell_type": "markdown",
   "metadata": {},
   "source": [
    "#### *Bartlett test*\n",
    "Bartlett test is used for testing homogeneity of variances in k groups, where k can be more than two. It’s adapted for normally distributed data. Details of the Levene test can be found at the end of the document, here : [Bartlett test](#lnk_bartlett_test)."
   ]
  },
  {
   "cell_type": "code",
   "execution_count": 11,
   "metadata": {},
   "outputs": [
    {
     "data": {
      "text/plain": [
       "\n",
       "\tBartlett test of homogeneity of variances\n",
       "\n",
       "data:  dataset_ble$rdt and dataset_ble$variete\n",
       "Bartlett's K-squared = 11.086, df = 3, p-value = 0.01127\n"
      ]
     },
     "metadata": {},
     "output_type": "display_data"
    }
   ],
   "source": [
    "bartlett.test(dataset_ble$rdt, dataset_ble$variete)"
   ]
  },
  {
   "cell_type": "markdown",
   "metadata": {},
   "source": [
    "<div class=\"alert alert-block alert-success\">\n",
    "    <b>Interpretation:</b> The test shows a <b>p-value=0.01127</b> which is less than the significance level of 0.05. This suggests that there is evidence that the variance in rendement (rdt) is statistically significantly different for the four groups of variete.\n",
    "    <p>I.e., we can <b>NOT</b> assume the homogeneity of variances.</p>\n",
    "</div>"
   ]
  },
  {
   "cell_type": "markdown",
   "metadata": {},
   "source": [
    "#### *Levene test*\n",
    "The Levene test is a more robust alternative to the Bartlett test **when the distributions of the data are non-normal**. Details of the Levene test can be found at the end of the document, here : [Levene test](#lnk_levene_test).\n",
    "\n",
    "The Levene test is part of the **CAR** (**C**ompanion to **A**pplied **R**egression) package (although it can also be found in the **lawstat** package)."
   ]
  },
  {
   "cell_type": "code",
   "execution_count": 37,
   "metadata": {},
   "outputs": [
    {
     "name": "stderr",
     "output_type": "stream",
     "text": [
      "Installing package into 'C:/Users/Didier/Documents/R/win-library/3.6'\n",
      "(as 'lib' is unspecified)\n",
      "\n",
      "also installing the dependencies 'stringi', 'pkgconfig', 'SparseM', 'MatrixModels', 'sp', 'haven', 'curl', 'data.table', 'readxl', 'openxlsx', 'tibble', 'minqa', 'nloptr', 'RcppEigen', 'carData', 'abind', 'pbkrtest', 'quantreg', 'maptools', 'rio', 'lme4'\n",
      "\n",
      "\n"
     ]
    },
    {
     "name": "stdout",
     "output_type": "stream",
     "text": [
      "package 'stringi' successfully unpacked and MD5 sums checked\n",
      "package 'pkgconfig' successfully unpacked and MD5 sums checked\n",
      "package 'SparseM' successfully unpacked and MD5 sums checked\n",
      "package 'MatrixModels' successfully unpacked and MD5 sums checked\n",
      "package 'sp' successfully unpacked and MD5 sums checked\n",
      "package 'haven' successfully unpacked and MD5 sums checked\n",
      "package 'curl' successfully unpacked and MD5 sums checked\n",
      "package 'data.table' successfully unpacked and MD5 sums checked\n",
      "package 'readxl' successfully unpacked and MD5 sums checked\n",
      "package 'openxlsx' successfully unpacked and MD5 sums checked\n",
      "package 'tibble' successfully unpacked and MD5 sums checked\n",
      "package 'minqa' successfully unpacked and MD5 sums checked\n",
      "package 'nloptr' successfully unpacked and MD5 sums checked\n",
      "package 'RcppEigen' successfully unpacked and MD5 sums checked\n",
      "package 'carData' successfully unpacked and MD5 sums checked\n",
      "package 'abind' successfully unpacked and MD5 sums checked\n",
      "package 'pbkrtest' successfully unpacked and MD5 sums checked\n",
      "package 'quantreg' successfully unpacked and MD5 sums checked\n",
      "package 'maptools' successfully unpacked and MD5 sums checked\n",
      "package 'rio' successfully unpacked and MD5 sums checked\n",
      "package 'lme4' successfully unpacked and MD5 sums checked\n",
      "package 'car' successfully unpacked and MD5 sums checked\n",
      "\n",
      "The downloaded binary packages are in\n",
      "\tC:\\Users\\Didier\\AppData\\Local\\Temp\\RtmpSGg4h6\\downloaded_packages\n"
     ]
    },
    {
     "name": "stderr",
     "output_type": "stream",
     "text": [
      "Loading required package: carData\n",
      "\n"
     ]
    }
   ],
   "source": [
    "#install.packages(\"car\")"
   ]
  },
  {
   "cell_type": "code",
   "execution_count": 12,
   "metadata": {},
   "outputs": [
    {
     "name": "stderr",
     "output_type": "stream",
     "text": [
      "Loading required package: carData\n",
      "\n"
     ]
    }
   ],
   "source": [
    "library(car)"
   ]
  },
  {
   "cell_type": "code",
   "execution_count": 13,
   "metadata": {},
   "outputs": [
    {
     "data": {
      "text/html": [
       "<table>\n",
       "<caption>A anova: 2 × 3</caption>\n",
       "<thead>\n",
       "\t<tr><th></th><th scope=col>Df</th><th scope=col>F value</th><th scope=col>Pr(&gt;F)</th></tr>\n",
       "\t<tr><th></th><th scope=col>&lt;int&gt;</th><th scope=col>&lt;dbl&gt;</th><th scope=col>&lt;dbl&gt;</th></tr>\n",
       "</thead>\n",
       "<tbody>\n",
       "\t<tr><th scope=row>group</th><td> 3</td><td>3.215413</td><td>0.02748358</td></tr>\n",
       "\t<tr><th scope=row> </th><td>76</td><td>      NA</td><td>        NA</td></tr>\n",
       "</tbody>\n",
       "</table>\n"
      ],
      "text/latex": [
       "A anova: 2 × 3\n",
       "\\begin{tabular}{r|lll}\n",
       "  & Df & F value & Pr(>F)\\\\\n",
       "  & <int> & <dbl> & <dbl>\\\\\n",
       "\\hline\n",
       "\tgroup &  3 & 3.215413 & 0.02748358\\\\\n",
       "\t  & 76 &       NA &         NA\\\\\n",
       "\\end{tabular}\n"
      ],
      "text/markdown": [
       "\n",
       "A anova: 2 × 3\n",
       "\n",
       "| <!--/--> | Df &lt;int&gt; | F value &lt;dbl&gt; | Pr(&gt;F) &lt;dbl&gt; |\n",
       "|---|---|---|---|\n",
       "| group |  3 | 3.215413 | 0.02748358 |\n",
       "| <!----> | 76 |       NA |         NA |\n",
       "\n"
      ],
      "text/plain": [
       "      Df F value  Pr(>F)    \n",
       "group  3 3.215413 0.02748358\n",
       "      76       NA         NA"
      ]
     },
     "metadata": {},
     "output_type": "display_data"
    }
   ],
   "source": [
    "leveneTest(dataset_ble$rdt, dataset_ble$variete)"
   ]
  },
  {
   "cell_type": "markdown",
   "metadata": {},
   "source": [
    "<div class=\"alert alert-block alert-success\">\n",
    "    <b>Interpretation:</b> The <b>Levene</b> test seems to confirm the result of the <b>Bartlett</b> test, i.e. the <b>p-value=0.02748358</b> is less than the significance level of 0.05, i.e. the variance in rendement (rdt) is statistically significantly different for the four groups of variete.\n",
    "    <p>We can <b>NOT</b> assume the homogeneity of variances.</p>\n",
    "</div>"
   ]
  },
  {
   "cell_type": "markdown",
   "metadata": {},
   "source": [
    "<div class=\"alert alert-block alert-warning\">\n",
    "    <b>What can we do when the homogeneity of variance assumption is violated?</b>\n",
    "    <p>There are alternative procedures (i.e.: **Welch one-way test**) that do not require the homogeneity of variance assumption. They can be used through  have been implemented in the function oneway.test().\n",
    "    <ul>\n",
    "        <li>Use an alternative procedures (i.e.: <b>Welch one-way test</b> that do not require the assumption on the homogeneity of variance. Use the R oneway.test() function, i.e.:\n",
    "            <p><b>oneway.test(rdt~variete, data = dataset_ble)</b></p>\n",
    "        </li>\n",
    "        <li>Use a pairwise t-tests with no assumption of equal variances, i.e.:\n",
    "            <p><b>pairwise.t.test(dataset_ble\\$rdt, dataset_ble\\$variete, p.adjust.method = \"BH\", pool.sd = FALSE)</b></p>\n",
    "        </li>\n",
    "    </ul>\n",
    "</div>"
   ]
  },
  {
   "cell_type": "markdown",
   "metadata": {},
   "source": [
    "#### 3. Gaussianity of the noise\n",
    "We can use several methods to verify nomality of the noise:\n",
    "* Looking at the **Normal Q-Q (Quantile-Quantile)** plot. The Q-Q plot shows the quantiles of the residuals plotted against the quantiles of the normal distribution. A 45-degree reference line is also plotted. The residuals plot should approximately follow the reference line.\n",
    "* **Shapiro-Wilk test** on the ANOVA residuals."
   ]
  },
  {
   "cell_type": "markdown",
   "metadata": {},
   "source": [
    "#### *Normal Q-Q plot*"
   ]
  },
  {
   "cell_type": "code",
   "execution_count": 14,
   "metadata": {},
   "outputs": [
    {
     "data": {
      "image/png": "[encoded data removed]",
      "text/plain": [
       "Plot with title \"\""
      ]
     },
     "metadata": {
      "image/png": {
       "height": 600,
       "width": 600
      },
      "text/plain": {
       "height": 600,
       "width": 600
      }
     },
     "output_type": "display_data"
    }
   ],
   "source": [
    "plot(result_aov, 2, cex=1.5, cex.lab=1.5, cex.axis=1.2)"
   ]
  },
  {
   "cell_type": "markdown",
   "metadata": {},
   "source": [
    "<div class=\"alert alert-block alert-success\">\n",
    "    <b>Interpretation:</b> Again, apart from the outliers apart, all the points fall approximately along the reference line.\n",
    "    <p>We we can assume normality of the noise.</p>\n",
    "</div>"
   ]
  },
  {
   "cell_type": "markdown",
   "metadata": {},
   "source": [
    "#### *Shapiro-Wilk test*\n",
    "The Shapiro–Wilk test is a test of normality. Details of the Shapiro–Wilk test can be found at the end of the document, here : [Shapiro-Wilk test](#lnk_shapiro_wilk_test).\n",
    "\n",
    "We are performing the test on the **residuals** (from previous ANOVA test)."
   ]
  },
  {
   "cell_type": "code",
   "execution_count": 15,
   "metadata": {},
   "outputs": [
    {
     "data": {
      "text/plain": [
       "\n",
       "\tShapiro-Wilk normality test\n",
       "\n",
       "data:  aov_residuals\n",
       "W = 0.98117, p-value = 0.2872\n"
      ]
     },
     "metadata": {},
     "output_type": "display_data"
    }
   ],
   "source": [
    "aov_residuals = residuals(result_aov)\n",
    "shapiro.test(aov_residuals)"
   ]
  },
  {
   "cell_type": "markdown",
   "metadata": {},
   "source": [
    "<div class=\"alert alert-block alert-success\">\n",
    "    <b>Interpretation:</b> The Shapiro-Wilk test support the interpretation of the <b>Q-Q plot</b>, i.e. with a <b>p-value=0.2872</b> significantly greater than the standard alpha level of 0.05, we cannot reject H0.\n",
    "    <p>We we can assume normality of the noise.</p>\n",
    "</div>"
   ]
  },
  {
   "cell_type": "markdown",
   "metadata": {},
   "source": [
    "<div class=\"alert alert-block alert-warning\">\n",
    "    <b>Overall conclusion for VARIETE:</b> The ANOVA test tends to show there could be an effect on Rendement (RDT) due to VARIETE, but our data does not conform to the ANOVA test assumption, particularly on the homogeneity of the variances.\n",
    "    <br><br><b>What can we do here then??</b>\n",
    "    <br><br><b>Also, how to conclude on which VARIETE is giving the best rendement? Simply by taking the greatest mean??</b>\n",
    "</div>"
   ]
  },
  {
   "cell_type": "markdown",
   "metadata": {},
   "source": [
    "## Using ```Phyto``` as a factor\n",
    "**->** We're therefore analysing here **2 groups** (each group being of size 40). Let's do a boxplot to quickly visualise potential influence of Phyto on Rendement:"
   ]
  },
  {
   "cell_type": "code",
   "execution_count": 16,
   "metadata": {},
   "outputs": [
    {
     "data": {
      "image/png": "[encoded data removed]",
      "text/plain": [
       "plot without title"
      ]
     },
     "metadata": {
      "image/png": {
       "height": 600,
       "width": 600
      },
      "text/plain": {
       "height": 600,
       "width": 600
      }
     },
     "output_type": "display_data"
    }
   ],
   "source": [
    "plot(rdt~phyto, data=dataset_ble, pch=16, cex=1.5, cex.lab=1.5, cex.axis=1.2, col=\"orange\")"
   ]
  },
  {
   "cell_type": "markdown",
   "metadata": {},
   "source": [
    "<div class=\"alert alert-block alert-success\">\n",
    "    <b>Quick analysis on this plot:</b> It seems that phyto Avec & Sans have quite a similar influence on the rendement, although Sans seems to have a bigger variance.\n",
    "    <p>It seems the <b>phyto</b> variable does <b>not</b> have an influence on the rendement. Let's investigate further ...</p>\n",
    "</div>"
   ]
  },
  {
   "cell_type": "markdown",
   "metadata": {},
   "source": [
    "## Performing an unpaired two-samples T-test\n",
    "We could perform an **ANOVA** test as previously for VARIETE, but because we have here only two groups, let's try something different, an **unpaired two-samples T-test**. This test is used to compare the mean of two **independent** groups. Details of the unpaired two-samples T-test can be found at the end of the document, here: [Unpaired two-samples T-test](#lnk_2_samples_t_test).\n",
    "### Assumptions for unpaired two-samples t-test\n",
    "These assumptions **must be** verified:"
   ]
  },
  {
   "cell_type": "markdown",
   "metadata": {},
   "source": [
    "<div class=\"alert alert-block alert-warning\">\n",
    "<ol>\n",
    "    <li>The observations are obtained independently and randomly,</li>\n",
    "    <li>The two groups are normally distributed, </li>\n",
    "    <li>Homogeneity of variances a.k.a <b>Homoscedacity</b>.</li>\n",
    "</ol>"
   ]
  },
  {
   "cell_type": "markdown",
   "metadata": {},
   "source": [
    "### Performing unpaired two-samples t-test\n",
    "We'll use **t.test()** R function."
   ]
  },
  {
   "cell_type": "code",
   "execution_count": 17,
   "metadata": {},
   "outputs": [
    {
     "data": {
      "text/plain": [
       "\n",
       "\tTwo Sample t-test\n",
       "\n",
       "data:  rdt by phyto\n",
       "t = 0.20332, df = 78, p-value = 0.8394\n",
       "alternative hypothesis: true difference in means is not equal to 0\n",
       "95 percent confidence interval:\n",
       " -62.41945  76.61945\n",
       "sample estimates:\n",
       "mean in group Avec mean in group Sans \n",
       "          5612.225           5605.125 \n"
      ]
     },
     "metadata": {},
     "output_type": "display_data"
    }
   ],
   "source": [
    "# Using t.test assuming variance of two groups are equal\n",
    "# i.e. var.equal = TRUE\n",
    "result_t_test = t.test(rdt~phyto, data=dataset_ble, var.equal = TRUE)\n",
    "result_t_test"
   ]
  },
  {
   "cell_type": "markdown",
   "metadata": {},
   "source": [
    "<div class=\"alert alert-block alert-success\">\n",
    "    <b>Interpretation:</b> The p-value of the test is 0.8394, which is significantly more than the significance level alpha = 0.05. We can conclude that <b>phyto SANS</b> and <b>phyto AVEC</b> groups have the same rendement mean.\n",
    "    <p>The <b>phyto</b> variable does <b>not</b> have an influence on the rendement.\n",
    "</div>"
   ]
  },
  {
   "cell_type": "markdown",
   "metadata": {},
   "source": [
    "### Verifying unpaired two-samples t-test test assumptions\n",
    "The results above are only valid if the assumptions of the **unpaired two-samples t-test** test are verified. Let's try to confirm they are."
   ]
  },
  {
   "cell_type": "markdown",
   "metadata": {},
   "source": [
    "#### 1. The observations are obtained independently and randomly\n",
    "It might be difficult to confirm, but there's no reason to believe observations of each group are not independent, assuming each parcelle is pysically different one from another."
   ]
  },
  {
   "cell_type": "markdown",
   "metadata": {},
   "source": [
    "#### 2. The two groups are normally distributed\n",
    "We can use a **Shapiro-Wilk test** on both groups."
   ]
  },
  {
   "cell_type": "code",
   "execution_count": 18,
   "metadata": {},
   "outputs": [],
   "source": [
    "group_phyto_sans = dataset_ble$rdt[dataset_ble$phyto==\"Sans\"]\n",
    "group_phyto_avec = dataset_ble$rdt[dataset_ble$phyto==\"Avec\"]"
   ]
  },
  {
   "cell_type": "code",
   "execution_count": 19,
   "metadata": {},
   "outputs": [
    {
     "data": {
      "text/plain": [
       "\n",
       "\tShapiro-Wilk normality test\n",
       "\n",
       "data:  group_phyto_sans\n",
       "W = 0.97647, p-value = 0.5607\n"
      ]
     },
     "metadata": {},
     "output_type": "display_data"
    }
   ],
   "source": [
    "shapiro.test(group_phyto_sans)"
   ]
  },
  {
   "cell_type": "code",
   "execution_count": 20,
   "metadata": {},
   "outputs": [
    {
     "data": {
      "text/plain": [
       "\n",
       "\tShapiro-Wilk normality test\n",
       "\n",
       "data:  group_phyto_avec\n",
       "W = 0.97296, p-value = 0.4444\n"
      ]
     },
     "metadata": {},
     "output_type": "display_data"
    }
   ],
   "source": [
    "shapiro.test(group_phyto_avec)"
   ]
  },
  {
   "cell_type": "markdown",
   "metadata": {},
   "source": [
    "<div class=\"alert alert-block alert-success\">\n",
    "    <b>Interpretation:</b> The Shapiro-Wilk test for both groups shows a p-value significantly greater than the standard alpha level of 0.05 which means we cannot reject H0.\n",
    "    <p>We we can assume both groups are normally distributed.</p>\n",
    "</div>"
   ]
  },
  {
   "cell_type": "markdown",
   "metadata": {},
   "source": [
    "#### 3. Homogeneity of variances, i.e. Homoscedacity\n",
    "Because we have two normally distributed groups, we could use a **F-test of equality of variances**. Details of the F-Test  can be found at the end of the document, here: [F-test of equality of variances](#lnk_f_test).\n",
    "\n",
    "Neverthertheless, let's use a **Levene test**, supposedly more robust."
   ]
  },
  {
   "cell_type": "code",
   "execution_count": 21,
   "metadata": {},
   "outputs": [
    {
     "data": {
      "text/html": [
       "<table>\n",
       "<caption>A anova: 2 × 3</caption>\n",
       "<thead>\n",
       "\t<tr><th></th><th scope=col>Df</th><th scope=col>F value</th><th scope=col>Pr(&gt;F)</th></tr>\n",
       "\t<tr><th></th><th scope=col>&lt;int&gt;</th><th scope=col>&lt;dbl&gt;</th><th scope=col>&lt;dbl&gt;</th></tr>\n",
       "</thead>\n",
       "<tbody>\n",
       "\t<tr><th scope=row>group</th><td> 1</td><td>0.6849646</td><td>0.4104074</td></tr>\n",
       "\t<tr><th scope=row> </th><td>78</td><td>       NA</td><td>       NA</td></tr>\n",
       "</tbody>\n",
       "</table>\n"
      ],
      "text/latex": [
       "A anova: 2 × 3\n",
       "\\begin{tabular}{r|lll}\n",
       "  & Df & F value & Pr(>F)\\\\\n",
       "  & <int> & <dbl> & <dbl>\\\\\n",
       "\\hline\n",
       "\tgroup &  1 & 0.6849646 & 0.4104074\\\\\n",
       "\t  & 78 &        NA &        NA\\\\\n",
       "\\end{tabular}\n"
      ],
      "text/markdown": [
       "\n",
       "A anova: 2 × 3\n",
       "\n",
       "| <!--/--> | Df &lt;int&gt; | F value &lt;dbl&gt; | Pr(&gt;F) &lt;dbl&gt; |\n",
       "|---|---|---|---|\n",
       "| group |  1 | 0.6849646 | 0.4104074 |\n",
       "| <!----> | 78 |        NA |        NA |\n",
       "\n"
      ],
      "text/plain": [
       "      Df F value   Pr(>F)   \n",
       "group  1 0.6849646 0.4104074\n",
       "      78        NA        NA"
      ]
     },
     "metadata": {},
     "output_type": "display_data"
    }
   ],
   "source": [
    "leveneTest(dataset_ble$rdt, dataset_ble$phyto)"
   ]
  },
  {
   "cell_type": "markdown",
   "metadata": {},
   "source": [
    "<div class=\"alert alert-block alert-success\">\n",
    "    <b>Interpretation:</b> With a <b>p-value=0.4104074</b> significantly greater than the significance level of 0.05, we cannot reject H0.\n",
    "    <p>We can assume the homogeneity of variances fo the two groups.</p>\n",
    "</div>"
   ]
  },
  {
   "cell_type": "markdown",
   "metadata": {},
   "source": [
    "<div class=\"alert alert-block alert-warning\">\n",
    "If the variances of the two groups being compared are different (heteroscedasticity), it’s possible to use the <b>Welch t test</b>, an adaptation of Student t-test. This is done with the <b>t.test()</b> R function with parameter var.equal = FALSE, e.g.:\n",
    "    <p><b>t.test(rdt~phyto, data=dataset_ble, var.equal = FALSE)</b></p>\n",
    "</div>"
   ]
  },
  {
   "cell_type": "markdown",
   "metadata": {},
   "source": [
    "<div class=\"alert alert-block alert-success\">\n",
    "    <b>Overall conclusion for PHYTO:</b> The assumptions for the <b>unpaired two-samples t-test</b> have been successfully verified, and the test has shown that there is no difference in rendement means for the two groups.\n",
    "    <p><b>We can conclude the PHYTO variable has no influence on the rendement.</b></p>\n",
    "</div>"
   ]
  },
  {
   "cell_type": "markdown",
   "metadata": {},
   "source": [
    "## ANalysis Of VAriance with two factors (two-way ANOVA test)\n",
    "**Two-way ANOVA test** is used to evaluate simultaneously the effect of two grouping variables (A and B) on a response variable. The level combinations of factors of these two grouping variables are called cell.\n",
    "* When the sample sizes within cells are equal, we have the so-called **balanced design**. In this case the standard two-way ANOVA test can be applied.\n",
    "* When the sample sizes within each level of the independent variables are not the same (case of **unbalanced design**), the ANOVA test should be handled differently.\n",
    "\n",
    "The two-way ANOVA test hypothesis are:\n",
    "\n",
    "**Null hypothesis (H0):**\n",
    "1. There is no difference in the means of factor A\n",
    "2. There is no difference in the means of factor B\n",
    "3. There is no interaction between factors A and B\n",
    "\n",
    "**Alternative hypothesis (H1):**\n",
    "1. There is a difference in the means of factor A\n",
    "2. There is a difference in the means of factor B\n",
    "3. There is an interaction between A and B\n",
    "\n",
    "### Assumptions for ANOVA\n",
    "Basically the same assumptions as the one-way ANOVA apply for **each cell**. These assumptions **must be** verified:"
   ]
  },
  {
   "cell_type": "markdown",
   "metadata": {},
   "source": [
    "<div class=\"alert alert-block alert-warning\">\n",
    "<ol>\n",
    "    <li>The observations are obtained independently and randomly,</li>\n",
    "    <li>Groups are identically distributed, i.e. homogeneity of variances a.k.a <b>Homoscedacity</b>,</li>\n",
    "    <li>Gaussianity of the noise.</li>\n",
    "</ol>"
   ]
  },
  {
   "cell_type": "markdown",
   "metadata": {},
   "source": [
    "### Performing two-way ANOVA test\n",
    "Let's first check if we have a balanced or un-balanced design."
   ]
  },
  {
   "cell_type": "code",
   "execution_count": 22,
   "metadata": {},
   "outputs": [
    {
     "data": {
      "text/plain": [
       "    \n",
       "     Avec Sans\n",
       "  V1   10   10\n",
       "  V2   10   10\n",
       "  V3   10   10\n",
       "  V4   10   10"
      ]
     },
     "metadata": {},
     "output_type": "display_data"
    }
   ],
   "source": [
    "table(dataset_ble$variete, dataset_ble$phyto)"
   ]
  },
  {
   "cell_type": "markdown",
   "metadata": {},
   "source": [
    "<div class=\"alert alert-block alert-success\">\n",
    "    <b>We have a balanced design</b>, 4x2 cells with 10 components in each cell.\n",
    "</div>"
   ]
  },
  {
   "cell_type": "markdown",
   "metadata": {},
   "source": [
    "### Some plots"
   ]
  },
  {
   "cell_type": "code",
   "execution_count": 36,
   "metadata": {},
   "outputs": [
    {
     "data": {
      "image/png": "[encoded data removed]",
      "text/plain": [
       "plot without title"
      ]
     },
     "metadata": {
      "image/png": {
       "height": 600,
       "width": 600
      },
      "text/plain": {
       "height": 600,
       "width": 600
      }
     },
     "output_type": "display_data"
    }
   ],
   "source": [
    "# Box plot with two factor variables\n",
    "boxplot(rdt ~ variete*phyto, data = dataset_ble,\n",
    "        pch=16, cex=1.5, cex.lab=1.5, cex.axis=1.2,\n",
    "        col = c(\"#00AFBB\", \"#E7B800\"),\n",
    "        ylab=\"Rendement\")"
   ]
  },
  {
   "cell_type": "code",
   "execution_count": 38,
   "metadata": {},
   "outputs": [
    {
     "data": {
      "image/png": "[encoded data removed]",
      "text/plain": [
       "plot without title"
      ]
     },
     "metadata": {
      "image/png": {
       "height": 600,
       "width": 600
      },
      "text/plain": {
       "height": 600,
       "width": 600
      }
     },
     "output_type": "display_data"
    }
   ],
   "source": [
    "# Two-way interaction plot\n",
    "interaction.plot(x.factor = dataset_ble$variete, trace.factor = dataset_ble$phyto, \n",
    "                 response = dataset_ble$rdt, fun = mean, \n",
    "                 type = \"b\", legend = TRUE, \n",
    "                 xlab = \"Variete\", ylab=\"Rendement\",\n",
    "                 pch=c(1,19), cex=1.5, cex.lab=1.5, cex.axis=1.2,\n",
    "                 col = c(\"#00AFBB\", \"#E7B800\"))"
   ]
  },
  {
   "cell_type": "markdown",
   "metadata": {},
   "source": [
    "<div class=\"alert alert-block alert-success\">\n",
    "    OK, nice plots, but <b>difficult to get a clear conclusion</b> from these plots!\n",
    "</div>"
   ]
  },
  {
   "cell_type": "markdown",
   "metadata": {},
   "source": [
    "### Performing the two-way ANOVA test\n",
    "We'll use **aov()** R function."
   ]
  },
  {
   "cell_type": "markdown",
   "metadata": {},
   "source": [
    "#### Additive model\n",
    "(variete **+** phyto)"
   ]
  },
  {
   "cell_type": "code",
   "execution_count": 39,
   "metadata": {},
   "outputs": [
    {
     "data": {
      "text/plain": [
       "            Df  Sum Sq Mean Sq F value   Pr(>F)    \n",
       "variete      3  851845  283948  20.275 1.01e-09 ***\n",
       "phyto        1    1008    1008   0.072    0.789    \n",
       "Residuals   75 1050379   14005                     \n",
       "---\n",
       "Signif. codes:  0 '***' 0.001 '**' 0.01 '*' 0.05 '.' 0.1 ' ' 1"
      ]
     },
     "metadata": {},
     "output_type": "display_data"
    }
   ],
   "source": [
    "result_2_way_aov = aov(rdt ~ variete + phyto, data = dataset_ble)\n",
    "summary(result_2_way_aov)"
   ]
  },
  {
   "cell_type": "markdown",
   "metadata": {},
   "source": [
    "<div class=\"alert alert-block alert-success\">\n",
    "This confirms what we found earlier thanks to the one-way ANOVA test, i.e. <b>VARIETE</b> has an impact on the rendement, whereas <b>PHYTO</b> has not. We do not have any information though on the possible effect of the combination of <b>VARIETE</b> and <b>PHYTO</b>.\n",
    "</div>"
   ]
  },
  {
   "cell_type": "markdown",
   "metadata": {},
   "source": [
    "#### Interaction model\n",
    "(variete * phyto)"
   ]
  },
  {
   "cell_type": "code",
   "execution_count": 41,
   "metadata": {},
   "outputs": [
    {
     "data": {
      "text/plain": [
       "              Df  Sum Sq Mean Sq F value   Pr(>F)    \n",
       "variete        3  851845  283948  19.575 2.21e-09 ***\n",
       "phyto          1    1008    1008   0.070    0.793    \n",
       "variete:phyto  3    5968    1989   0.137    0.938    \n",
       "Residuals     72 1044411   14506                     \n",
       "---\n",
       "Signif. codes:  0 '***' 0.001 '**' 0.01 '*' 0.05 '.' 0.1 ' ' 1"
      ]
     },
     "metadata": {},
     "output_type": "display_data"
    }
   ],
   "source": [
    "result_2_way_aov_interact = aov(rdt ~ variete * phyto, data = dataset_ble)\n",
    "summary(result_2_way_aov_interact)"
   ]
  },
  {
   "cell_type": "markdown",
   "metadata": {},
   "source": [
    "<div class=\"alert alert-block alert-success\">\n",
    "This interaction model indicates that the interaction between <b>VARIETE</b> and <b>PHYTO</b> is not significant, i.e. it does not have an effect of rendement.\n",
    "</div>"
   ]
  },
  {
   "cell_type": "markdown",
   "metadata": {},
   "source": [
    "#### Summary of the interaction model\n",
    "Showing means for the different factors and cells."
   ]
  },
  {
   "cell_type": "code",
   "execution_count": 42,
   "metadata": {},
   "outputs": [
    {
     "data": {
      "text/plain": [
       "Tables of means\n",
       "Grand mean\n",
       "         \n",
       "5608.675 \n",
       "\n",
       " variete \n",
       "variete\n",
       "  V1   V2   V3   V4 \n",
       "5634 5584 5465 5752 \n",
       "\n",
       " phyto \n",
       "phyto\n",
       "Avec Sans \n",
       "5612 5605 \n",
       "\n",
       " variete:phyto \n",
       "       phyto\n",
       "variete Avec Sans\n",
       "     V1 5628 5640\n",
       "     V2 5594 5574\n",
       "     V3 5460 5469\n",
       "     V4 5767 5738\n",
       "\n",
       "Standard errors for differences of means\n",
       "        variete phyto variete:phyto\n",
       "          38.09 26.93         53.86\n",
       "replic.      20    40            10"
      ]
     },
     "metadata": {},
     "output_type": "display_data"
    }
   ],
   "source": [
    "model.tables(result_2_way_aov_interact, type=\"means\", se = TRUE)"
   ]
  },
  {
   "cell_type": "markdown",
   "metadata": {},
   "source": [
    "### Verifying two-way ANOVA test assumptions\n",
    "As we've done for the one-way ANOVA test, let's (quickly this time) confirm the test assumptions."
   ]
  },
  {
   "cell_type": "markdown",
   "metadata": {},
   "source": [
    "#### 1. The observations are obtained independently and randomly\n",
    "It might be difficult to confirm, but there's no reason to believe observations of each **cell** are not independent, assuming each parcelle is pysically different one from another."
   ]
  },
  {
   "cell_type": "markdown",
   "metadata": {},
   "source": [
    "#### 2. Groups are identically distributed, i.e. Homoscedacity\n",
    "Let's use a **Levene test**."
   ]
  },
  {
   "cell_type": "code",
   "execution_count": 44,
   "metadata": {},
   "outputs": [
    {
     "data": {
      "text/html": [
       "<table>\n",
       "<caption>A anova: 2 × 3</caption>\n",
       "<thead>\n",
       "\t<tr><th></th><th scope=col>Df</th><th scope=col>F value</th><th scope=col>Pr(&gt;F)</th></tr>\n",
       "\t<tr><th></th><th scope=col>&lt;int&gt;</th><th scope=col>&lt;dbl&gt;</th><th scope=col>&lt;dbl&gt;</th></tr>\n",
       "</thead>\n",
       "<tbody>\n",
       "\t<tr><th scope=row>group</th><td> 7</td><td>1.881501</td><td>0.08512523</td></tr>\n",
       "\t<tr><th scope=row> </th><td>72</td><td>      NA</td><td>        NA</td></tr>\n",
       "</tbody>\n",
       "</table>\n"
      ],
      "text/latex": [
       "A anova: 2 × 3\n",
       "\\begin{tabular}{r|lll}\n",
       "  & Df & F value & Pr(>F)\\\\\n",
       "  & <int> & <dbl> & <dbl>\\\\\n",
       "\\hline\n",
       "\tgroup &  7 & 1.881501 & 0.08512523\\\\\n",
       "\t  & 72 &       NA &         NA\\\\\n",
       "\\end{tabular}\n"
      ],
      "text/markdown": [
       "\n",
       "A anova: 2 × 3\n",
       "\n",
       "| <!--/--> | Df &lt;int&gt; | F value &lt;dbl&gt; | Pr(&gt;F) &lt;dbl&gt; |\n",
       "|---|---|---|---|\n",
       "| group |  7 | 1.881501 | 0.08512523 |\n",
       "| <!----> | 72 |       NA |         NA |\n",
       "\n"
      ],
      "text/plain": [
       "      Df F value  Pr(>F)    \n",
       "group  7 1.881501 0.08512523\n",
       "      72       NA         NA"
      ]
     },
     "metadata": {},
     "output_type": "display_data"
    }
   ],
   "source": [
    "leveneTest(rdt ~ variete*phyto, data = dataset_ble)"
   ]
  },
  {
   "cell_type": "markdown",
   "metadata": {},
   "source": [
    "<div class=\"alert alert-block alert-success\">\n",
    "    <b>Interpretation:</b> The <b>p-value=0.08512523</b> is not less than the significance level of 0.05. This means that there is no evidence to suggest that the variance across groups is statistically significantly different. \n",
    "    <p><b>We can assume the homogeneity of variances.</b></p>\n",
    "</div>"
   ]
  },
  {
   "cell_type": "markdown",
   "metadata": {},
   "source": [
    "#### 3. Gaussianity of the noise\n",
    "We'll use a **Shapiro-Wilk test** on the ANOVA residuals."
   ]
  },
  {
   "cell_type": "code",
   "execution_count": 48,
   "metadata": {},
   "outputs": [
    {
     "data": {
      "text/plain": [
       "\n",
       "\tShapiro-Wilk normality test\n",
       "\n",
       "data:  aov_interact_residuals\n",
       "W = 0.98246, p-value = 0.342\n"
      ]
     },
     "metadata": {},
     "output_type": "display_data"
    }
   ],
   "source": [
    "aov_interact_residuals = residuals(result_2_way_aov_interact)\n",
    "shapiro.test(aov_interact_residuals)"
   ]
  },
  {
   "cell_type": "markdown",
   "metadata": {},
   "source": [
    "<div class=\"alert alert-block alert-success\">\n",
    "    <b>Interpretation:</b> The Shapiro-Wilk test with a <b>p-value=0.342</b> significantly greater than the standard alpha level of 0.05 indicates we cannot reject <b>H0</b>.\n",
    "    <br><b>We can assume normality of the noise.</b>\n",
    "</div>"
   ]
  },
  {
   "cell_type": "markdown",
   "metadata": {},
   "source": [
    "## Overall conclusion"
   ]
  },
  {
   "cell_type": "markdown",
   "metadata": {},
   "source": [
    "<div class=\"alert alert-block alert-success\">\n",
    "    <ol>\n",
    "        <li><b>VARIETE</b> has an impact on the mean of the <b>RENDEMENT</b>. <b>V4</b> variete seems to have the best rendement with a mean of 5752</li>\n",
    "        <li><b>PHYTO</b> does not have an impact on the <b>RENDEMENT</b>.</li>\n",
    "        <li>The interaction (<b>VARIETE, PHYTO</b>) does neither have an impact on the <b>RENDEMENT</b>.</li>\n",
    "    </ol>\n",
    "</div>"
   ]
  },
  {
   "cell_type": "markdown",
   "metadata": {},
   "source": [
    "___"
   ]
  },
  {
   "cell_type": "markdown",
   "metadata": {},
   "source": [
    "# Links\n",
    "Some links to tutorials in relation to the content of that notebook:\n",
    "* [One way ANOVA test in R](http://www.sthda.com/english/wiki/one-way-anova-test-in-r)\n",
    "* [Unpaired two samples test in R](http://www.sthda.com/english/wiki/unpaired-two-samples-t-test-in-r)\n",
    "* [Two way ANOVA test in R](http://www.sthda.com/english/wiki/two-way-anova-test-in-r)"
   ]
  },
  {
   "cell_type": "markdown",
   "metadata": {},
   "source": [
    "# Additional details on some statistical tests\n",
    "(mostly from wikipedia)"
   ]
  },
  {
   "cell_type": "markdown",
   "metadata": {},
   "source": [
    "<a id=\"lnk_levene_test\"></a>\n",
    "## Levene test\n",
    "* **Null hypothesis (H0)**: the variances of the different groups are equal, **=>** homogeneity of the variances a.k.a. homoscedascity,\n",
    "* **Alternative hypothesis (H1)**: At least one sample variance is not equal to the others, **=>** heteroscedascity."
   ]
  },
  {
   "cell_type": "markdown",
   "metadata": {},
   "source": [
    "<div class=\"alert alert-block alert-info\">\n",
    "Levene's test is equivalent to a 1-way between-groups analysis of variance (ANOVA) with the dependent variable being the absolute value of the difference between a score and the mean of the group to which the score belongs (shown below as ${\\displaystyle Z_{ij}=|Y_{ij}-{\\bar {Y}}_{i\\cdot }|}$). The test statistic, ${\\displaystyle W}$, is equivalent to the ${\\displaystyle F}$ statistic that would be produced by such an ANOVA, and is defined as follows:\n",
    "\n",
    "$${\\displaystyle W={\\frac {(N-k)}{(k-1)}}\\cdot {\\frac {\\sum _{i=1}^{k}N_{i}(Z_{i\\cdot }-Z_{\\cdot \\cdot })^{2}}{\\sum _{i=1}^{k}\\sum _{j=1}^{N_{i}}(Z_{ij}-Z_{i\\cdot })^{2}}},}$$\n",
    "\n",
    "where\n",
    "\n",
    "* ${\\displaystyle k}$ is the number of different groups to which the sampled cases belong,\n",
    "* ${\\displaystyle N_{i}}$ is the number of cases in the ${\\displaystyle i}$th group,\n",
    "* ${\\displaystyle N}$ is the total number of cases in all groups,\n",
    "* ${\\displaystyle Y_{ij}}$ is the value of the measured variable for the ${\\displaystyle j}$th case from the ${\\displaystyle i}$th group,\n",
    "* ${\\displaystyle Z_{ij}={\\begin{cases}|Y_{ij}-{\\bar {Y}}_{i\\cdot }|,&{\\bar {Y}}_{i\\cdot }{\\text{ is a mean of the }}i{\\text{-th group}},\\\\|Y_{ij}-{\\tilde {Y}}_{i\\cdot }|,&{\\tilde {Y}}_{i\\cdot }{\\text{ is a median of the }}i{\\text{-th group}}.\\end{cases}}}$\n",
    "\n",
    "(Both definitions are in use though the second one is, strictly speaking, the Brown–Forsythe test – see below for comparison.)\n",
    "\n",
    "* ${\\displaystyle Z_{i\\cdot }={\\frac {1}{N_{i}}}\\sum _{j=1}^{N_{i}}Z_{ij}}$ is the mean of the ${\\displaystyle Z_{ij}}$ for group ${\\displaystyle i}$,\n",
    "* ${\\displaystyle Z_{\\cdot \\cdot }={\\frac {1}{N}}\\sum _{i=1}^{k}\\sum _{j=1}^{N_{i}}Z_{ij}}$ is the mean of all ${\\displaystyle Z_{ij}}$.\n",
    "\n",
    "The test statistic ${\\displaystyle W}$ is approximately F-distributed with ${\\displaystyle k-1}$ and ${\\displaystyle N-k}$ degrees of freedom, and hence is the significance of the outcome ${\\displaystyle w}$ of ${\\displaystyle W}$ tested against ${\\displaystyle F(\\alpha ,k-1,N-k)}$ where ${\\displaystyle F}$ is a quantile of the F-distribution, with ${\\displaystyle k-1}$ and ${\\displaystyle N-k}$ degrees of freedom, and ${\\displaystyle \\alpha }\\alpha$ is the chosen level of significance (usually 0.05 or 0.01).\n",
    "</div>"
   ]
  },
  {
   "cell_type": "markdown",
   "metadata": {},
   "source": [
    "<a id=\"lnk_bartlett_test\"></a>\n",
    "## Bartlett test\n",
    "* **Null hypothesis (H0)**: the variances of the different groups are equal, **=>** homogeneity of the variances a.k.a. homoscedascity,\n",
    "* **Alternative hypothesis (H1)**: At least one sample variance is not equal to the others, **=>** heteroscedascity."
   ]
  },
  {
   "cell_type": "markdown",
   "metadata": {},
   "source": [
    "<div class=\"alert alert-block alert-info\">\n",
    "If there are k samples with sizes ${\\displaystyle n_{i}}$ and sample variances ${\\displaystyle S_{i}^{2}}$ then Bartlett's test statistic is:\n",
    "\n",
    "${\\displaystyle \\chi ^{2}={\\frac {(N-k)\\ln(S_{p}^{2})-\\sum _{i=1}^{k}(n_{i}-1)\\ln(S_{i}^{2})}{1+{\\frac {1}{3(k-1)}}\\left(\\sum _{i=1}^{k}({\\frac {1}{n_{i}-1}})-{\\frac {1}{N-k}}\\right)}}}$\n",
    "\n",
    "where ${\\displaystyle N=\\sum _{i=1}^{k}n_{i}}$ and ${\\displaystyle S_{p}^{2}={\\frac {1}{N-k}}\\sum _{i}(n_{i}-1)S_{i}^{2}}$ is the pooled estimate for the variance.\n",
    "\n",
    "The test statistic has approximately a ${\\displaystyle \\chi _{k-1}^{2}}$ distribution. Thus the null hypothesis is rejected if ${\\displaystyle \\chi ^{2}>\\chi _{k-1,\\alpha }^{2}}$ (where ${\\displaystyle \\chi _{k-1,\\alpha }^{2}}$ is the upper tail critical value for the ${\\displaystyle \\chi _{k-1}^{2}}$ distribution).\n",
    "\n",
    "Bartlett's test is a modification of the corresponding likelihood ratio test designed to make the approximation to the ${\\displaystyle \\chi _{k-1}^{2}}$ distribution better (Bartlett, 1937).\n",
    "</div>"
   ]
  },
  {
   "cell_type": "markdown",
   "metadata": {},
   "source": [
    "<a id=\"lnk_shapiro_wilk_test\"></a>\n",
    "## Shapiro-Wilk test\n",
    "* **Null hypothesis(H0)**: the population is normally distributed. If the p value is less than the chosen alpha level, then the null hypothesis is rejected and there is evidence that the data tested are **not normally distributed**.\n",
    "* **Alternative hypothesis (H1)**: the data does not come from a normally distributed population."
   ]
  },
  {
   "cell_type": "markdown",
   "metadata": {},
   "source": [
    "<div class=\"alert alert-block alert-info\">\n",
    "The Shapiro–Wilk test tests the null hypothesis that a sample x1, ..., xn came from a normally distributed population. The test statistic is\n",
    "\n",
    "${\\displaystyle W={\\left(\\sum _{i=1}^{n}a_{i}x_{(i)}\\right)^{2} \\over \\sum _{i=1}^{n}(x_{i}-{\\overline {x}})^{2}},}$\n",
    "\n",
    "<p>where:</p>\n",
    "\n",
    "${\\displaystyle x_{(i)}}$ (with parentheses enclosing the subscript index i; not to be confused with ${\\displaystyle x_{i}}$) is the ith order statistic, i.e., the ith-smallest number in the sample;\n",
    "${\\displaystyle {\\overline {x}}=\\left(x_{1}+\\cdots +x_{n}\\right)/n}$ is the sample mean.\n",
    "\n",
    "<p>The coefficients ${\\displaystyle a_{i}}$ are given by:</p>\n",
    "\n",
    "${\\displaystyle (a_{1},\\dots ,a_{n})={m^{\\mathsf {T}}V^{-1} \\over C},}$\n",
    "    \n",
    "<p>where C is a vector norm:</p>\n",
    "\n",
    "${\\displaystyle C=\\|V^{-1}m\\|=(m^{\\mathsf {T}}V^{-1}V^{-1}m)^{1/2}}$\n",
    "    \n",
    "<p>and the vector m,</p>\n",
    "\n",
    "${\\displaystyle m=(m_{1},\\dots ,m_{n})^{\\mathsf {T}}\\,}$\n",
    "    \n",
    "is made of the expected values of the order statistics of independent and identically distributed random variables sampled from the standard normal distribution;\n",
    "    <p>finally, ${\\displaystyle V}$ is the covariance matrix of those normal order statistics.</p>\n",
    "</div>"
   ]
  },
  {
   "cell_type": "markdown",
   "metadata": {},
   "source": [
    "<a id=\"lnk_2_samples_t_test\"></a>\n",
    "## Unpaired two samples T-test\n",
    "The test can support different research questions, which can be supported by the following different Null and Alternative hypothesis.\n",
    "\n",
    "**Null hypothesis (H0):**\n",
    "1. the mean of group A = mean of group B\n",
    "2. the mean of group A <= mean of group B\n",
    "3. the mean of group A >= mean of group B\n",
    "\n",
    "**Alternative hypothesis (H1):**\n",
    "1. the mean of group A != mean of group B\n",
    "2. the mean of group A > mean of group B\n",
    "3. the mean of group A < mean of group B\n",
    "\n",
    "Hypothesis **1** is a **two-tailed test**, whereas hypothesis **2** and **3** are a **one-tailed test**.\n",
    "\n",
    "If the p-value is inferior or equal to the significance level 0.05, we can reject the null hypothesis and accept the alternative hypothesis. In other words, we can conclude that the mean values of group A and B are significantly different."
   ]
  },
  {
   "cell_type": "markdown",
   "metadata": {},
   "source": [
    "<div class=\"alert alert-block alert-info\">\n",
    "<b>1. Classical T-test</b>\n",
    "<p>For the case the <b>variance of the two groups are equivalent</b> (homoscedasticity). The T-test value, comparing the two samples (A and B), can then be calculated as follow:</p>\n",
    "    \n",
    "<br>${\\displaystyle t = \\frac{m_A - m_B}{\\sqrt{ \\frac{S^2}{n_A} + \\frac{S^2}{n_B} }}}$\n",
    "\n",
    "<br>where:\n",
    "<ul><li>${\\displaystyle m_A}$ and ${\\displaystyle m_B}$ represent the mean value of the group A and B, respectively.</li>\n",
    "<li>${\\displaystyle n_A}$ and ${\\displaystyle n_B}$ represent the sizes of the group A and B, respectively.</li>\n",
    "<li>${\\displaystyle S^2}$ is an estimator of the pooled variance of the two groups. It can be calculated as follow:</li></ul>\n",
    "\n",
    "${\\displaystyle S^2 = \\frac{\\sum{(x-m_A)^2}+\\sum{(x-m_B)^2}}{n_A+n_B-2}}$\n",
    "\n",
    "<br>with degree of freedom ${\\displaystyle df = n_A + n_B - 2}$\n",
    "\n",
    "<br><b>2. Welch t-statistic</b>\n",
    "<p>For the case the <b>variances of the two groups being compared are different</b> (heteroscedasticity), it’s possible to use the Welch t test, an adaptation of Student t-test. Welch t-statistic is calculated as follow :</p>\n",
    "    \n",
    "<br>${\\displaystyle t = \\frac{m_A - m_B}{\\sqrt{ \\frac{S_A^2}{n_A} + \\frac{S_B^2}{n_B} }}}$\n",
    "\n",
    "<br>where, ${\\displaystyle S_A}$ and ${\\displaystyle S_B}$ are the standard deviation of the the two groups A and B, respectively.\n",
    "\n",
    "The degrees of freedom of Welch t-test is estimated as follow :\n",
    "    \n",
    "<br>${\\displaystyle df = (\\frac{S_A^2}{n_A}+ \\frac{S_B^2}{n_B^2}) / (\\frac{S_A^4}{n_A^2(n_B-1)} + \\frac{S_B^4}{n_B^2(n_B-1)} )}$\n",
    "</div>"
   ]
  },
  {
   "cell_type": "markdown",
   "metadata": {},
   "source": [
    "<a id=\"lnk_f_test\"></a>\n",
    "## F-test of equality of variances\n",
    "* **Null hypothesis(H0)**: The two **normal** populations have the same variance.\n",
    "* **Alternative hypothesis (H1)**: The two **normal** populations do not have the same variance."
   ]
  },
  {
   "cell_type": "markdown",
   "metadata": {},
   "source": [
    "<div class=\"alert alert-block alert-info\">\n",
    "Let X1, ..., Xn and Y1, ..., Ym be independent and identically distributed samples from two populations which each has a normal distribution. The expected values for the two populations can be different, and the hypothesis to be tested is that the variances are equal.\n",
    "    <p>Let:</p>\n",
    "${\\displaystyle {\\overline {X}}={\\frac {1}{n}}\\sum _{i=1}^{n}X_{i}{\\text{ and }}{\\overline {Y}}={\\frac {1}{m}}\\sum _{i=1}^{m}Y_{i}}$\n",
    "    <p>be the sample means. Let:</p>\n",
    "${\\displaystyle S_{X}^{2}={\\frac {1}{n-1}}\\sum _{i=1}^{n}\\left(X_{i}-{\\overline {X}}\\right)^{2}{\\text{ and }}S_{Y}^{2}={\\frac {1}{m-1}}\\sum _{i=1}^{m}\\left(Y_{i}-{\\overline {Y}}\\right)^{2}}$\n",
    "    <p>be the sample variances. Then the test statistic:</p>\n",
    "${\\displaystyle F={\\frac {S_{X}^{2}}{S_{Y}^{2}}}}$\n",
    "    <p>has an <b>F-distribution</b> with n − 1 and m − 1 degrees of freedom if the null hypothesis of equality of variances is true. Otherwise it follows an F-distribution scaled by the ratio of true variances. The null hypothesis is rejected if F is either too large or too small based on the desired alpha level (i.e., statistical significance).</p>\n",
    "</div>"
   ]
  },
  {
   "cell_type": "code",
   "execution_count": null,
   "metadata": {},
   "outputs": [],
   "source": []
  }
 ],
 "metadata": {
  "kernelspec": {
   "display_name": "R",
   "language": "R",
   "name": "ir"
  },
  "language_info": {
   "codemirror_mode": "r",
   "file_extension": ".r",
   "mimetype": "text/x-r-source",
   "name": "R",
   "pygments_lexer": "r",
   "version": "3.6.2"
  }
 },
 "nbformat": 4,
 "nbformat_minor": 2
}
